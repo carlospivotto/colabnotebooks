{
  "nbformat": 4,
  "nbformat_minor": 0,
  "metadata": {
    "colab": {
      "name": "firebase.ipynb",
      "provenance": [],
      "collapsed_sections": [],
      "authorship_tag": "ABX9TyOqmP66Jda3+F8omy03qNqU",
      "include_colab_link": true
    },
    "kernelspec": {
      "name": "python3",
      "display_name": "Python 3"
    }
  },
  "cells": [
    {
      "cell_type": "markdown",
      "metadata": {
        "id": "view-in-github",
        "colab_type": "text"
      },
      "source": [
        "<a href=\"https://colab.research.google.com/github/ramonck/colabnotebooks/blob/main/firebase.ipynb\" target=\"_parent\"><img src=\"https://colab.research.google.com/assets/colab-badge.svg\" alt=\"Open In Colab\"/></a>"
      ]
    },
    {
      "cell_type": "code",
      "metadata": {
        "id": "JR5COgdX1KL7",
        "outputId": "d7ebdd87-f73c-4bb7-9362-04ba5460467f",
        "colab": {
          "base_uri": "https://localhost:8080/",
          "height": 880
        }
      },
      "source": [
        "from google.colab import auth\n",
        "auth.authenticate_user()\n",
        "!pip install --upgrade firebase-admin\n",
        "\n",
        "#import firebase_admin\n",
        "#from firebase_admin import firestore\n",
        "\n",
        "# Use the application default credentials\n",
        "#db = firebase_admin.initialize_app()\n",
        "\n",
        "#db = firestore.client()\n",
        "import firebase_admin\n",
        "from firebase_admin import credentials, firestore\n",
        "\n",
        "cred = credentials.Certificate(\"cred/infnet-f3892-firebase-adminsdk-ku8cj-d30235d835.json\")\n",
        "firebase_admin.initialize_app(cred, {\n",
        "  'projectId': 'infnet-f3892',\n",
        "})\n",
        "db = firestore.client()\n",
        "doc_ref = db.collection(u'users').document(u'alovelace')\n",
        "doc_ref.set({\n",
        "    u'first': u'Ada',\n",
        "    u'last': u'Lovelace',\n",
        "    u'born': 1815\n",
        "})\n",
        "\n",
        "# Then query for documents\n",
        "users_ref = db.collection(u'users')\n",
        "\n",
        "for doc in users_ref.stream():\n",
        "    print(u'{} => {}'.format(doc.id, doc.to_dict()))"
      ],
      "execution_count": 17,
      "outputs": [
        {
          "output_type": "stream",
          "text": [
            "Requirement already up-to-date: firebase-admin in /usr/local/lib/python3.6/dist-packages (4.4.0)\n",
            "Requirement already satisfied, skipping upgrade: google-cloud-storage>=1.18.0 in /usr/local/lib/python3.6/dist-packages (from firebase-admin) (1.18.1)\n",
            "Requirement already satisfied, skipping upgrade: cachecontrol>=0.12.6 in /usr/local/lib/python3.6/dist-packages (from firebase-admin) (0.12.6)\n",
            "Requirement already satisfied, skipping upgrade: google-cloud-firestore>=1.4.0; platform_python_implementation != \"PyPy\" in /usr/local/lib/python3.6/dist-packages (from firebase-admin) (1.9.0)\n",
            "Requirement already satisfied, skipping upgrade: google-api-python-client>=1.7.8 in /usr/local/lib/python3.6/dist-packages (from firebase-admin) (1.7.12)\n",
            "Requirement already satisfied, skipping upgrade: google-api-core[grpc]<2.0.0dev,>=1.14.0; platform_python_implementation != \"PyPy\" in /usr/local/lib/python3.6/dist-packages (from firebase-admin) (1.16.0)\n",
            "Requirement already satisfied, skipping upgrade: google-auth>=1.2.0 in /usr/local/lib/python3.6/dist-packages (from google-cloud-storage>=1.18.0->firebase-admin) (1.17.2)\n",
            "Requirement already satisfied, skipping upgrade: google-resumable-media<0.5.0dev,>=0.3.1 in /usr/local/lib/python3.6/dist-packages (from google-cloud-storage>=1.18.0->firebase-admin) (0.4.1)\n",
            "Requirement already satisfied, skipping upgrade: google-cloud-core<2.0dev,>=1.0.0 in /usr/local/lib/python3.6/dist-packages (from google-cloud-storage>=1.18.0->firebase-admin) (1.4.3)\n",
            "Requirement already satisfied, skipping upgrade: requests in /usr/local/lib/python3.6/dist-packages (from cachecontrol>=0.12.6->firebase-admin) (2.23.0)\n",
            "Requirement already satisfied, skipping upgrade: msgpack>=0.5.2 in /usr/local/lib/python3.6/dist-packages (from cachecontrol>=0.12.6->firebase-admin) (1.0.0)\n",
            "Requirement already satisfied, skipping upgrade: pytz in /usr/local/lib/python3.6/dist-packages (from google-cloud-firestore>=1.4.0; platform_python_implementation != \"PyPy\"->firebase-admin) (2018.9)\n",
            "Requirement already satisfied, skipping upgrade: httplib2<1dev,>=0.17.0 in /usr/local/lib/python3.6/dist-packages (from google-api-python-client>=1.7.8->firebase-admin) (0.17.4)\n",
            "Requirement already satisfied, skipping upgrade: uritemplate<4dev,>=3.0.0 in /usr/local/lib/python3.6/dist-packages (from google-api-python-client>=1.7.8->firebase-admin) (3.0.1)\n",
            "Requirement already satisfied, skipping upgrade: six<2dev,>=1.6.1 in /usr/local/lib/python3.6/dist-packages (from google-api-python-client>=1.7.8->firebase-admin) (1.15.0)\n",
            "Requirement already satisfied, skipping upgrade: google-auth-httplib2>=0.0.3 in /usr/local/lib/python3.6/dist-packages (from google-api-python-client>=1.7.8->firebase-admin) (0.0.4)\n",
            "Requirement already satisfied, skipping upgrade: setuptools>=34.0.0 in /usr/local/lib/python3.6/dist-packages (from google-api-core[grpc]<2.0.0dev,>=1.14.0; platform_python_implementation != \"PyPy\"->firebase-admin) (50.3.0)\n",
            "Requirement already satisfied, skipping upgrade: googleapis-common-protos<2.0dev,>=1.6.0 in /usr/local/lib/python3.6/dist-packages (from google-api-core[grpc]<2.0.0dev,>=1.14.0; platform_python_implementation != \"PyPy\"->firebase-admin) (1.52.0)\n",
            "Requirement already satisfied, skipping upgrade: protobuf>=3.4.0 in /usr/local/lib/python3.6/dist-packages (from google-api-core[grpc]<2.0.0dev,>=1.14.0; platform_python_implementation != \"PyPy\"->firebase-admin) (3.12.4)\n",
            "Requirement already satisfied, skipping upgrade: grpcio<2.0dev,>=1.8.2; extra == \"grpc\" in /usr/local/lib/python3.6/dist-packages (from google-api-core[grpc]<2.0.0dev,>=1.14.0; platform_python_implementation != \"PyPy\"->firebase-admin) (1.32.0)\n",
            "Requirement already satisfied, skipping upgrade: pyasn1-modules>=0.2.1 in /usr/local/lib/python3.6/dist-packages (from google-auth>=1.2.0->google-cloud-storage>=1.18.0->firebase-admin) (0.2.8)\n",
            "Requirement already satisfied, skipping upgrade: rsa<5,>=3.1.4; python_version >= \"3\" in /usr/local/lib/python3.6/dist-packages (from google-auth>=1.2.0->google-cloud-storage>=1.18.0->firebase-admin) (4.6)\n",
            "Requirement already satisfied, skipping upgrade: cachetools<5.0,>=2.0.0 in /usr/local/lib/python3.6/dist-packages (from google-auth>=1.2.0->google-cloud-storage>=1.18.0->firebase-admin) (4.1.1)\n",
            "Requirement already satisfied, skipping upgrade: certifi>=2017.4.17 in /usr/local/lib/python3.6/dist-packages (from requests->cachecontrol>=0.12.6->firebase-admin) (2020.6.20)\n",
            "Requirement already satisfied, skipping upgrade: chardet<4,>=3.0.2 in /usr/local/lib/python3.6/dist-packages (from requests->cachecontrol>=0.12.6->firebase-admin) (3.0.4)\n",
            "Requirement already satisfied, skipping upgrade: idna<3,>=2.5 in /usr/local/lib/python3.6/dist-packages (from requests->cachecontrol>=0.12.6->firebase-admin) (2.10)\n",
            "Requirement already satisfied, skipping upgrade: urllib3!=1.25.0,!=1.25.1,<1.26,>=1.21.1 in /usr/local/lib/python3.6/dist-packages (from requests->cachecontrol>=0.12.6->firebase-admin) (1.24.3)\n",
            "Requirement already satisfied, skipping upgrade: pyasn1<0.5.0,>=0.4.6 in /usr/local/lib/python3.6/dist-packages (from pyasn1-modules>=0.2.1->google-auth>=1.2.0->google-cloud-storage>=1.18.0->firebase-admin) (0.4.8)\n"
          ],
          "name": "stdout"
        },
        {
          "output_type": "error",
          "ename": "ValueError",
          "evalue": "ignored",
          "traceback": [
            "\u001b[0;31m---------------------------------------------------------------------------\u001b[0m",
            "\u001b[0;31mValueError\u001b[0m                                Traceback (most recent call last)",
            "\u001b[0;32m<ipython-input-17-d9223a50b3e5>\u001b[0m in \u001b[0;36m<module>\u001b[0;34m()\u001b[0m\n\u001b[1;32m     15\u001b[0m \u001b[0mcred\u001b[0m \u001b[0;34m=\u001b[0m \u001b[0mcredentials\u001b[0m\u001b[0;34m.\u001b[0m\u001b[0mCertificate\u001b[0m\u001b[0;34m(\u001b[0m\u001b[0;34m\"cred/infnet-f3892-firebase-adminsdk-ku8cj-d30235d835.json\"\u001b[0m\u001b[0;34m)\u001b[0m\u001b[0;34m\u001b[0m\u001b[0;34m\u001b[0m\u001b[0m\n\u001b[1;32m     16\u001b[0m firebase_admin.initialize_app(cred, {\n\u001b[0;32m---> 17\u001b[0;31m   \u001b[0;34m'projectId'\u001b[0m\u001b[0;34m:\u001b[0m \u001b[0;34m'infnet-f3892'\u001b[0m\u001b[0;34m,\u001b[0m\u001b[0;34m\u001b[0m\u001b[0;34m\u001b[0m\u001b[0m\n\u001b[0m\u001b[1;32m     18\u001b[0m })\n\u001b[1;32m     19\u001b[0m \u001b[0mdb\u001b[0m \u001b[0;34m=\u001b[0m \u001b[0mfirestore\u001b[0m\u001b[0;34m.\u001b[0m\u001b[0mclient\u001b[0m\u001b[0;34m(\u001b[0m\u001b[0;34m)\u001b[0m\u001b[0;34m\u001b[0m\u001b[0;34m\u001b[0m\u001b[0m\n",
            "\u001b[0;32m/usr/local/lib/python3.6/dist-packages/firebase_admin/__init__.py\u001b[0m in \u001b[0;36minitialize_app\u001b[0;34m(credential, options, name)\u001b[0m\n\u001b[1;32m     70\u001b[0m     \u001b[0;32mif\u001b[0m \u001b[0mname\u001b[0m \u001b[0;34m==\u001b[0m \u001b[0m_DEFAULT_APP_NAME\u001b[0m\u001b[0;34m:\u001b[0m\u001b[0;34m\u001b[0m\u001b[0;34m\u001b[0m\u001b[0m\n\u001b[1;32m     71\u001b[0m         raise ValueError((\n\u001b[0;32m---> 72\u001b[0;31m             \u001b[0;34m'The default Firebase app already exists. This means you called '\u001b[0m\u001b[0;34m\u001b[0m\u001b[0;34m\u001b[0m\u001b[0m\n\u001b[0m\u001b[1;32m     73\u001b[0m             \u001b[0;34m'initialize_app() more than once without providing an app name as '\u001b[0m\u001b[0;34m\u001b[0m\u001b[0;34m\u001b[0m\u001b[0m\n\u001b[1;32m     74\u001b[0m             \u001b[0;34m'the second argument. In most cases you only need to call '\u001b[0m\u001b[0;34m\u001b[0m\u001b[0;34m\u001b[0m\u001b[0m\n",
            "\u001b[0;31mValueError\u001b[0m: The default Firebase app already exists. This means you called initialize_app() more than once without providing an app name as the second argument. In most cases you only need to call initialize_app() once. But if you do want to initialize multiple apps, pass a second argument to initialize_app() to give each app a unique name."
          ]
        }
      ]
    }
  ]
}